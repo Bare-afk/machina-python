{
 "cells": [
  {
   "cell_type": "markdown",
   "metadata": {},
   "source": [
    "Fight Simulator"
   ]
  },
  {
   "cell_type": "code",
   "execution_count": null,
   "metadata": {},
   "outputs": [],
   "source": [
    "import random\n",
    "\n",
    "#podaci 1. lika\n",
    "\n",
    "ime1 = input(\"Unesi ime 1. lika: \")\n",
    "while not ime1:\n",
    "    ime1 = input(\"Unesi ime 1. lika: \")\n",
    "HP1 = input(\"Unesi zdravlje za 1. lika: \")\n",
    "while True:\n",
    "    if HP1.isnumeric():\n",
    "        if int(HP1) > 0:\n",
    "            break\n",
    "    HP1 = input(\"Unesi zdravlje 1. lika: \")\n",
    "\n",
    "\n",
    "# podaci 2. lika\n",
    "\n",
    "ime2 = input(\"Unesi ime 2. lika: \")\n",
    "while not ime2:\n",
    "    ime2 = input(\"Unesi ime 2. lika: \")\n",
    "HP2 = input(\"Unesi zdravlje 2. lika: \")\n",
    "while True:\n",
    "    if HP2.isnumeric():\n",
    "        if int(HP1) > 0:\n",
    "            break\n",
    "    HP2 = input(\"Unesi zdravlje 2. lika: \")\n",
    "\n",
    "#dmg 1. lika\n",
    "\n",
    "a, b = input(\"Unesi raspon štete 1. lika u obliku a-b: \").split(\"-\")\n",
    "while True:\n",
    "    if a.isdecimal() and b.isdecimal():\n",
    "        a = int(a)\n",
    "        b = int(b)\n",
    "    if a < b:\n",
    "        break\n",
    "    a, b = input(\"Unesi raspon štete 1. lika u obliku a-b: \").split(\"-\")\n",
    "dmg1 = random.randint(a, b)\n",
    "\n",
    "#dmg 2. lika\n",
    "\n",
    "c, d = input(\"Unesi raspon štete 2. lika u obliku a-b: \").split(\"-\")\n",
    "while True:\n",
    "    if c.isdecimal() and d.isdecimal():\n",
    "        c = int(c)\n",
    "        d = int(d)\n",
    "    if c < d:\n",
    "        break\n",
    "    c, d = input(\"Unesi raspon štete 2. lika u obliku a-b: \").split(\"-\")\n",
    "dmg2 = random.randint(c, d)\n",
    "\n",
    "# obračun borbe\n",
    "\n",
    "total_HP1 = int(HP1) - dmg2\n",
    "total_HP2 = int(HP2) - dmg1\n",
    "\n",
    "if total_HP1 > 0 or total_HP2 > 0:\n",
    "    total_HP1 = total_HP1 - dmg2\n",
    "    total_HP2 = total_HP2 - dmg1\n",
    "\n",
    "if total_HP1 > total_HP2:\n",
    "    print(\"Pobjednik je\", ime1)\n",
    "else:\n",
    "    print(\"Pobjednik je\", ime2)\n",
    "\n"
   ]
  }
 ],
 "metadata": {
  "kernelspec": {
   "display_name": "Python 3",
   "language": "python",
   "name": "python3"
  },
  "language_info": {
   "codemirror_mode": {
    "name": "ipython",
    "version": 3
   },
   "file_extension": ".py",
   "mimetype": "text/x-python",
   "name": "python",
   "nbconvert_exporter": "python",
   "pygments_lexer": "ipython3",
   "version": "3.13.1"
  }
 },
 "nbformat": 4,
 "nbformat_minor": 2
}
