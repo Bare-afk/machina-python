{
 "cells": [
  {
   "cell_type": "markdown",
   "metadata": {},
   "source": [
    "Radno vrijeme 8-11:30 i 14:30-18"
   ]
  },
  {
   "cell_type": "code",
   "execution_count": 44,
   "metadata": {},
   "outputs": [
    {
     "name": "stdout",
     "output_type": "stream",
     "text": [
      "ne radi\n"
     ]
    }
   ],
   "source": [
    "sati, minute = (input(\"Unesi vrijeme u obliku HH:MM\").split(\":\"))\n",
    "sati = int(sati)\n",
    "minute = int(minute)\n",
    "\n",
    "if (8 <= sati < 11) or (sati == 11 and minute < 30) or (sati == 14 and minute > 30) or (15 <= sati < 18):\n",
    "    print('radi')\n",
    "else:\n",
    "    print('ne radi')\n"
   ]
  },
  {
   "cell_type": "markdown",
   "metadata": {},
   "source": [
    "Dan u tjednu"
   ]
  },
  {
   "cell_type": "code",
   "execution_count": null,
   "metadata": {},
   "outputs": [
    {
     "data": {
      "text/plain": [
       "'Thursday'"
      ]
     },
     "execution_count": 13,
     "metadata": {},
     "output_type": "execute_result"
    }
   ],
   "source": [
    "import datetime as dt\n",
    "\n",
    "birthday_str = (input(\"Unesi datum rođenja u obliku DD.MM.YYYY\"))\n",
    "\n",
    "birthday = dt.datetime.strptime(birthday_str, \"%d.%m.%Y\")\n",
    "\n",
    "dan_u_tjednu = birthday.strftime(\"%A\")\n",
    "\n",
    "dan_u_tjednu\n",
    "\n"
   ]
  }
 ],
 "metadata": {
  "kernelspec": {
   "display_name": "Python 3",
   "language": "python",
   "name": "python3"
  },
  "language_info": {
   "codemirror_mode": {
    "name": "ipython",
    "version": 3
   },
   "file_extension": ".py",
   "mimetype": "text/x-python",
   "name": "python",
   "nbconvert_exporter": "python",
   "pygments_lexer": "ipython3",
   "version": "3.13.1"
  }
 },
 "nbformat": 4,
 "nbformat_minor": 2
}
