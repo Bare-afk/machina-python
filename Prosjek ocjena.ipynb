{
 "cells": [
  {
   "cell_type": "markdown",
   "metadata": {},
   "source": [
    "Prosjek ocjena"
   ]
  },
  {
   "cell_type": "code",
   "execution_count": null,
   "metadata": {},
   "outputs": [],
   "source": [
    "import math\n",
    "\n",
    "ocjene = input('Unesi ocjene odvojene razmakom')\n",
    "ocjene = ocjene.split()\n",
    "broj  = len(ocjene)\n",
    "ocjene = map(int, ocjene)\n",
    "zbroj = sum(ocjene)\n",
    "\n",
    "prosjek = zbroj / broj\n",
    "print('Prosjek je', prosjek)   \n",
    "\n",
    "željeni_prosjek = float(input('Unesi željeni prosjek: '))\n",
    "\n",
    "\n",
    "\n",
    "broj_novih_ocjena = 0\n",
    "while True:\n",
    "    broj_novih_ocjena += 1\n",
    "    potreban_zbroj = (željeni_prosjek * (broj + broj_novih_ocjena))\n",
    "    potrebna_ocjena = potreban_zbroj - zbroj\n",
    "    if potrebna_ocjena / broj_novih_ocjena <= 5:\n",
    "        break\n",
    "print(f'Da bi postigli prosjek {željeni_prosjek}, morate dodati {broj_novih_ocjena} ocjena/e')\n",
    "\n",
    "nova_ocjena = math.ceil(potrebna_ocjena / broj_novih_ocjena)\n",
    "print(f'Svaka nova ocjena treba biti : {nova_ocjena}')"
   ]
  }
 ],
 "metadata": {
  "kernelspec": {
   "display_name": "Python 3",
   "language": "python",
   "name": "python3"
  },
  "language_info": {
   "codemirror_mode": {
    "name": "ipython",
    "version": 3
   },
   "file_extension": ".py",
   "mimetype": "text/x-python",
   "name": "python",
   "nbconvert_exporter": "python",
   "pygments_lexer": "ipython3",
   "version": "3.13.1"
  }
 },
 "nbformat": 4,
 "nbformat_minor": 2
}
